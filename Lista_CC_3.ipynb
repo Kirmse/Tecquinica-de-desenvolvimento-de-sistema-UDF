{
  "nbformat": 4,
  "nbformat_minor": 0,
  "metadata": {
    "colab": {
      "provenance": [],
      "name": "Lista_CC_3.ipynb",
      "authorship_tag": "ABX9TyPiPCiM12v9Uvs4Wufi3bKc",
      "include_colab_link": true
    },
    "kernelspec": {
      "name": "python3",
      "display_name": "Python 3"
    },
    "language_info": {
      "name": "python"
    }
  },
  "cells": [
    {
      "cell_type": "markdown",
      "metadata": {
        "id": "view-in-github",
        "colab_type": "text"
      },
      "source": [
        "<a href=\"https://colab.research.google.com/github/Kirmse/Tecquinica-de-desenvolvimento-de-sistema-UDF/blob/main/Lista_CC_3.ipynb\" target=\"_parent\"><img src=\"https://colab.research.google.com/assets/colab-badge.svg\" alt=\"Open In Colab\"/></a>"
      ]
    },
    {
      "cell_type": "code",
      "execution_count": null,
      "metadata": {
        "colab": {
          "base_uri": "https://localhost:8080/"
        },
        "id": "AZS43ZQFXCL1",
        "outputId": "bd537d5e-d667-44be-f493-5fe44787556a"
      },
      "outputs": [
        {
          "output_type": "stream",
          "name": "stdout",
          "text": [
            "Hello World Hello World Hello World Hello World Hello World Hello World Hello World Hello World Hello World Hello World "
          ]
        }
      ],
      "source": [
        "#1 Elabore um algoritmo que imprima na tela lado a lado o texto \"Hello World!\" 10 vezes\n",
        "\n",
        "for i in range(10):\n",
        "  print(f\"Hello World\", end=\" \")"
      ]
    },
    {
      "cell_type": "code",
      "source": [
        "#2 Elabore um algoritmo que imprima na tela o texto \"Hello World!\" 10 vezes, um por linha\n",
        "for i in range(10):\n",
        "  print(f\"Hello World\")"
      ],
      "metadata": {
        "id": "-aq0Wp9pZRMp"
      },
      "execution_count": null,
      "outputs": []
    },
    {
      "cell_type": "code",
      "source": [
        "#3 Elabore um algoritmo que imprima todos os números inteiros de 1 até 100 inclusive\n",
        "for i in range(1,101):\n",
        "  print(f\"Número: {i}\")"
      ],
      "metadata": {
        "id": "_4MHdaKOZha2"
      },
      "execution_count": null,
      "outputs": []
    },
    {
      "cell_type": "code",
      "source": [
        "#4 Elabore um algoritmo que imprima 100 vezes o texto \"1- Hello World!\" com o número\n",
        "for i in range(1,101):\n",
        "  print(f\"{i} - Hello World\")"
      ],
      "metadata": {
        "id": "b9sKwx1QZ00C"
      },
      "execution_count": null,
      "outputs": []
    },
    {
      "cell_type": "code",
      "source": [
        "#5 Elabore um algoritmo que imprima todos os números decrescentes de 100 até 0 inclusive\n",
        "for i in range(100,0,-1):\n",
        "  print(i)"
      ],
      "metadata": {
        "id": "sUzVoxodaenm"
      },
      "execution_count": null,
      "outputs": []
    },
    {
      "cell_type": "code",
      "source": [
        "#6 Elabore um algoritmo que imprima todos os números pares inteiros de 1 até 1000\n",
        "for i in range(2,1001,2):\n",
        "  print(i)"
      ],
      "metadata": {
        "id": "K733KduscXDJ"
      },
      "execution_count": null,
      "outputs": []
    },
    {
      "cell_type": "code",
      "source": [
        "#7 Elabore um algoritmo que imprima todos os números ímpares de 1000 até 0\n",
        "for i in range(999,0,-2):\n",
        "  print(i)"
      ],
      "metadata": {
        "id": "ZiEztAzPcs0F"
      },
      "execution_count": null,
      "outputs": []
    },
    {
      "cell_type": "code",
      "source": [
        "#8 Elabore um algoritmo que imprima a soma dos 100 primeiros números inteiros positivos\n",
        "y = 0\n",
        "for i in range(1,101):\n",
        "  y+=i\n",
        "  print(y)"
      ],
      "metadata": {
        "id": "C8QGyumcdFDv"
      },
      "execution_count": null,
      "outputs": []
    },
    {
      "cell_type": "code",
      "source": [
        "#9 Elabore um algoritmo que solicite ao usuário um número inteiro que indicará a quantidade de vezes que o texto \"Hello World!\" será impresso na tela, um em cada linha\n",
        "num = int(input(\"Digite um número: \"))\n",
        "for i in range(1,num+1):\n",
        "  print(f\"{i} - Hello World\")"
      ],
      "metadata": {
        "id": "Fj2TF8sidJfm"
      },
      "execution_count": null,
      "outputs": []
    },
    {
      "cell_type": "code",
      "source": [
        "#10 Elabore um algoritmo que solicite ao usuário uma palavra e um número inteiro que indicará a quantidade de vezes que a palavra digitada será impressa na tela, um em cada linha\n",
        "num = int(input(\"Digite um número: \"))\n",
        "nome = input(\"Digite um nome: \")\n",
        "\n",
        "for i in range(0,num):\n",
        "  print(f\"{i} - {nome}.\")"
      ],
      "metadata": {
        "id": "ZaOaO5uzhQFU"
      },
      "execution_count": null,
      "outputs": []
    },
    {
      "cell_type": "code",
      "source": [
        "#11 Elabore um algoritmo que leia um número de entrada que indicará a quantidade de números a serem lidos. Em seguida, leia n números (conforme o valor informado anteriormente) e imprima a soma e a média aritmética dos números informados\n",
        "num = int(input(\"Digite um número: \"))\n",
        "soma = 0\n",
        "for i in range(num):\n",
        "  num_input = int(input(f\"Digite o {i+1}º numero: \"))\n",
        "  soma += num_input\n",
        "print(f\"A soma dos números é: {soma}\")\n",
        "print(f\"A média dos números é: {soma/num}\")"
      ],
      "metadata": {
        "id": "7ThO-7Wghybl"
      },
      "execution_count": null,
      "outputs": []
    },
    {
      "cell_type": "code",
      "source": [
        "#12  Elabore um algoritmo que leia um número de entrada que indicará a quantidade de registros a serem lidos (N). Em seguida algoritmo deve solicitar o nome e idade de N pessoas e ao final apresentar o nome da pessoa mais velha\n",
        "nome_maisVelho = \"\"\n",
        "idade_maisVelho = 0\n",
        "\n",
        "N = int(input(\"Digite o nº de quantas vezes terá o loop: \"))\n",
        "\n",
        "for i in range(N):\n",
        "  nome = input(\"Digite seu nome: \")\n",
        "  idade = int(input(\"Digite sua idade: \"))\n",
        "  if idade > idade_maisVelho:\n",
        "    idade_maisVelho = idade\n",
        "    nome_maisVelho = nome\n",
        "\n",
        "print(f\"A pessoa mais velha é o {nome_maisVelho}, com {idade_maisVelho} anos\")\n",
        "\n"
      ],
      "metadata": {
        "id": "IjiJ_969jWCq"
      },
      "execution_count": null,
      "outputs": []
    },
    {
      "cell_type": "code",
      "source": [
        "#13 Elabore um algoritmo que leia um número de entrada que indicará a quantidade de registros a serem lidos (N). Em seguida algoritmo deve solicitar o sexo (M/F) e idade de N pessoas e ao final apresentar a média de idade de ambos os gêneros catalogados.\n",
        "\n",
        "qnt_loop = int(input(\"Digite o nº de quantas vezes terá o loop: \"))\n",
        "\n",
        "soma_idade_M = 0\n",
        "soma_idade_F = 0\n",
        "total_M = 0\n",
        "total_F = 0\n",
        "\n",
        "for i in range(qnt_loop):\n",
        "\n",
        "  while True:\n",
        "    sexo = input(f\"{i+1}º - Qual é seu gênero?(M/F): \").upper()\n",
        "    if sexo == \"M\" or sexo == \"F\":\n",
        "      break\n",
        "    else:\n",
        "      print(\"Gênero inválido! Digite 'M' ou 'F'.\")\n",
        "\n",
        "  if sexo == \"M\":\n",
        "    idade_M = int(input(f\"{i+1}º - Qual é sua idade?: \"))\n",
        "    soma_idade_M += idade_M\n",
        "    total_M += 1\n",
        "\n",
        "  else:\n",
        "    idade_F = int(input(f\"{i+1}º - Qual é sua idade?: \"))\n",
        "    soma_idade_F += idade_F\n",
        "    total_F += 1\n",
        "\n",
        "\n",
        "media_idade_F = soma_idade_F/total_F\n",
        "media_idade_M = soma_idade_M/total_M\n",
        "print(\"\")\n",
        "print(f\"A média de idade feminina é de {media_idade_F} anos e a média de idade masculina é de {media_idade_M} anos.\")\n"
      ],
      "metadata": {
        "id": "s6WPxT6HeIcW"
      },
      "execution_count": null,
      "outputs": []
    },
    {
      "cell_type": "code",
      "source": [],
      "metadata": {
        "id": "XoZUNQU5tgUM"
      },
      "execution_count": null,
      "outputs": []
    },
    {
      "cell_type": "code",
      "source": [],
      "metadata": {
        "id": "NPnSrAf5wY5k"
      },
      "execution_count": null,
      "outputs": []
    }
  ]
}