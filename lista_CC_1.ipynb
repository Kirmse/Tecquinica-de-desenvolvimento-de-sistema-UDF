{
  "nbformat": 4,
  "nbformat_minor": 0,
  "metadata": {
    "colab": {
      "provenance": [],
      "authorship_tag": "ABX9TyPt0p7fCQ/vLKKJHBQ1WrB9",
      "include_colab_link": true
    },
    "kernelspec": {
      "name": "python3",
      "display_name": "Python 3"
    },
    "language_info": {
      "name": "python"
    }
  },
  "cells": [
    {
      "cell_type": "markdown",
      "metadata": {
        "id": "view-in-github",
        "colab_type": "text"
      },
      "source": [
        "<a href=\"https://colab.research.google.com/github/Kirmse/Tecquinica-de-Desenvolvimento-de-Sistema-UDF/blob/main/lista_1.ipynb\" target=\"_parent\"><img src=\"https://colab.research.google.com/assets/colab-badge.svg\" alt=\"Open In Colab\"/></a>"
      ]
    },
    {
      "cell_type": "code",
      "execution_count": 26,
      "metadata": {
        "colab": {
          "base_uri": "https://localhost:8080/"
        },
        "id": "plxQWdzZHZCs",
        "outputId": "af934203-5e0a-41f5-cc69-f3081fbcad8f"
      },
      "outputs": [
        {
          "output_type": "stream",
          "name": "stdout",
          "text": [
            "Meu primeiro programa!!!\n"
          ]
        }
      ],
      "source": [
        "#1 Escreva um programa que apresente na tela a frase: \"Meu primeiro programa!!!\"\n",
        "print(\"Meu primeiro programa!!!\")"
      ]
    },
    {
      "cell_type": "code",
      "source": [
        "#2 Escreva um programa que solicite ao usuário um número inteiro e ao final apresente na tela o número informado pelo usuário do programa\n",
        "num = int(input(\"Digite um número inteiro: \"))\n",
        "print(num)"
      ],
      "metadata": {
        "colab": {
          "base_uri": "https://localhost:8080/"
        },
        "id": "n_hNYKrjKPWe",
        "outputId": "00b15685-c941-494d-8313-08a6d2d792f4"
      },
      "execution_count": 4,
      "outputs": [
        {
          "output_type": "stream",
          "name": "stdout",
          "text": [
            "Digite um número inteiro: 4\n",
            "4\n"
          ]
        }
      ]
    },
    {
      "cell_type": "code",
      "source": [
        "#3  Escreva um programa que solicite ao usuário um número inteiro e ao final apresente na tela o número informado da seguinte forma: \"Foi informado o valor: X\"\n",
        "num = int(input(\"Digie um número inteiro: \"))\n",
        "print(\"Foi informado o valor:\",num)"
      ],
      "metadata": {
        "colab": {
          "base_uri": "https://localhost:8080/"
        },
        "id": "eopcfbAuLV6a",
        "outputId": "017c46b7-6217-423e-a30d-144e39e7e1b7"
      },
      "execution_count": 6,
      "outputs": [
        {
          "output_type": "stream",
          "name": "stdout",
          "text": [
            "Digie um número inteiro: 4\n",
            "Foi informado o valor: 4\n"
          ]
        }
      ]
    },
    {
      "cell_type": "code",
      "source": [
        "#4  Escreva um programa que solicite ao usuário dois números inteiros e ao final apresente na tela os dois números informados da seguinte forma: \"Voce informou os numeros X e Y\"\n",
        "n1 = int(input(\"Digite o primeiro número inteiro: \"))\n",
        "n2 = int(input(\"Digite o segundo número inteiro: \"))\n",
        "print(\"Você informou os números\",n1,\"e\",n2)"
      ],
      "metadata": {
        "colab": {
          "base_uri": "https://localhost:8080/"
        },
        "id": "wQ-HFfR-LTdz",
        "outputId": "58b4dc87-2741-4ae4-ea42-57a38fad6058"
      },
      "execution_count": 18,
      "outputs": [
        {
          "output_type": "stream",
          "name": "stdout",
          "text": [
            "Digite o primeiro número inteiro: 5\n",
            "Digite o segundo número inteiro: 4\n",
            "Você informou os números 5 e 4\n"
          ]
        }
      ]
    },
    {
      "cell_type": "code",
      "source": [
        "#5  Escreva um programa que solicite ao usuário um número real e ao final apresente na tela o número informado formatado com duas casas decimais da seguinte forma: \"Voce informou o numero X.YY\"\n",
        "num = float(input(\"Digie um número real: \"))\n",
        "print(\"Foi informado o valor:\",format(num,\".2f\"))"
      ],
      "metadata": {
        "colab": {
          "base_uri": "https://localhost:8080/"
        },
        "id": "MisD3jBURuV9",
        "outputId": "c5976e4c-052e-4079-9581-368c3f8934ff"
      },
      "execution_count": 21,
      "outputs": [
        {
          "output_type": "stream",
          "name": "stdout",
          "text": [
            "Digie um número real: 4.56568\n",
            "Foi informado o valor: 4.57\n"
          ]
        }
      ]
    },
    {
      "cell_type": "code",
      "source": [
        "#6 Escreva um programa que solicite ao usuário a temperatura em graus Celsius e ao final apresente a temperatura correspondente em graus Farenheit. F = Celsius * 1.8 + 32\n",
        "celsius = float(input(\"Digite a temperatura em Celsius: \"))\n",
        "fahrenheits = celsius * 1.8 + 32\n",
        "print(\"A temperatura em Fahrenheits é:\",format(fahrenheits,\".2f\"))"
      ],
      "metadata": {
        "colab": {
          "base_uri": "https://localhost:8080/"
        },
        "id": "bMsXU2CiLwG-",
        "outputId": "1db1426f-bc1a-47fe-cf81-f75cf869705d"
      },
      "execution_count": 20,
      "outputs": [
        {
          "output_type": "stream",
          "name": "stdout",
          "text": [
            "Digite a temperatura em Celsius: 4.6666\n",
            "A temperatura em Fahrenheits é: 40.40\n"
          ]
        }
      ]
    },
    {
      "cell_type": "code",
      "source": [
        "#7  Escreva um programa que solicite ao usuário um número inteiro e um número real e ao final apresente na tela os dois números informados formatando com duas casas decimais somente o número real da seguinte forma: \"Voce informou os numeros N e X.YY\"\n",
        "inteiro = int(input(\"Digite um número inteiro: \"))\n",
        "real = float(input(\"Digite um número real: \"))\n",
        "print(\"Você informou os númeors\",inteiro,\"e\",(format(real,\".2f\")))"
      ],
      "metadata": {
        "colab": {
          "base_uri": "https://localhost:8080/"
        },
        "id": "RA6iPLYCLxT-",
        "outputId": "50a21e46-c474-4ed8-c120-e70bdeba611d"
      },
      "execution_count": 11,
      "outputs": [
        {
          "output_type": "stream",
          "name": "stdout",
          "text": [
            "Digite um número inteiro: 5\n",
            "Digite um número real: 4.44444\n",
            "Você informou os númeors 5 e 4.44\n"
          ]
        }
      ]
    },
    {
      "cell_type": "code",
      "source": [
        "#8  Escreva um programa que solicite ao usuário a primeira letra de seu nome e ao final apresente na tela a letra informada pelo usuário da seguinte forma: \"Voce digitou w\"\n",
        "nome = input(\"Digite a primeira letra do seu nome: \")\n",
        "print(\"Você digitou w\")"
      ],
      "metadata": {
        "colab": {
          "base_uri": "https://localhost:8080/"
        },
        "id": "3lGrb7NJStZL",
        "outputId": "d04bb2aa-4478-46b0-f321-4e974001a461"
      },
      "execution_count": 22,
      "outputs": [
        {
          "output_type": "stream",
          "name": "stdout",
          "text": [
            "Digite a primeira letra do seu nome: I\n",
            "Você digitou ' I '\n"
          ]
        }
      ]
    },
    {
      "cell_type": "code",
      "source": [
        "#9 Escreva um programa que solicite ao usuário o nome de sua cor preferida e ao final apresente na tela a cor informada pelo usuário da seguinte forma: \"Voce gosta da cor AAA\"\n",
        "cor = input(\"Digite o nome da sua cor preferida: \")\n",
        "print(\"Você gosta da cor\",cor)"
      ],
      "metadata": {
        "colab": {
          "base_uri": "https://localhost:8080/"
        },
        "id": "DF145dkgNkF_",
        "outputId": "91882978-c67e-4848-f5a7-40461cfbb923"
      },
      "execution_count": 28,
      "outputs": [
        {
          "output_type": "stream",
          "name": "stdout",
          "text": [
            "Digite o nome da sua cor preferida: amarelo\n",
            "Você gosta da cor amarelo\n"
          ]
        }
      ]
    },
    {
      "cell_type": "code",
      "source": [
        "#10 Escreva um programa que solicite ao usuário o nome de uma verdura e uma fruta de sua preferencia e ao final apresente na tela as informações digitadas pelo usuário da seguinte forma: \"Voce gosta de AAAAAAA e BBBBBBB\"\n",
        "verdura = input(\"Digite o nome de uma verdura: \")\n",
        "fruta = input(\"Digite o nome da fruta: \")\n",
        "print(\"Você gosta de\",verdura,\"e\",fruta)"
      ],
      "metadata": {
        "colab": {
          "base_uri": "https://localhost:8080/"
        },
        "id": "-7lbDEZbNsb9",
        "outputId": "1bd9d7cb-8a69-40a8-ef56-18fcc187bb95"
      },
      "execution_count": 12,
      "outputs": [
        {
          "output_type": "stream",
          "name": "stdout",
          "text": [
            "Digite o nome de uma verdura: cenoura\n",
            "Digite o nome da fruta: abacaxi\n",
            "Você gosta de cenoura e abacaxi\n"
          ]
        }
      ]
    },
    {
      "cell_type": "code",
      "source": [
        "'''#11 Elabore um algoritmo que solicite ao usuário um número real e ao final imprima na tela o numero informado e na linha de baixo o dobro deste número da seguinte forma:\n",
        "Numero -> X\n",
        "Dobro deste numero -> Y '''\n",
        "num = float(input(\"Digite um número real: \"))\n",
        "print(\"Número ->\",num)\n",
        "print(\"Dobro deste número ->\",(num*2))"
      ],
      "metadata": {
        "colab": {
          "base_uri": "https://localhost:8080/"
        },
        "id": "qQTFYZD7N9-T",
        "outputId": "e2ca86a4-d403-4311-e5ac-aead52352c3a"
      },
      "execution_count": 31,
      "outputs": [
        {
          "output_type": "stream",
          "name": "stdout",
          "text": [
            "Digite um número real: 5\n",
            "Número -> 5.0\n",
            "Dobro deste número -> 10.0\n"
          ]
        }
      ]
    },
    {
      "cell_type": "code",
      "source": [
        "#12 Reescrever o programa anterior apresentando o quadrado e o cubo do número informado\n",
        "num = float(input(\"Digite um número real: \"))\n",
        "print(\"Número ->\",num)\n",
        "print(\"O quadrado deste némero ->\",(num*num))\n",
        "print(\"O cubo deste némero ->\",(num*num*num))"
      ],
      "metadata": {
        "colab": {
          "base_uri": "https://localhost:8080/"
        },
        "id": "zYuCw9gsTVN2",
        "outputId": "f39acbf6-1827-487a-f551-2acb855642b6"
      },
      "execution_count": 24,
      "outputs": [
        {
          "output_type": "stream",
          "name": "stdout",
          "text": [
            "Digite um número real: 5\n",
            "Número -> 5.0\n",
            "O quadrado deste némero -> 25.0\n",
            "O cubo deste némero -> 125.0\n"
          ]
        }
      ]
    },
    {
      "cell_type": "code",
      "source": [
        "#13 Escreva um programa que solicite ao usuário dois números inteiros e ao final apresente na tela a soma dos dois números informados da seguinte forma: \"O numeros N e X somados correspondem a Y\"\n",
        "n1 = int(input(\"Digite o primeiro número inteiro: \"))\n",
        "n2 = int(input(\"Digite o segundo número inteiro: \"))\n",
        "soma = n1 + n2\n",
        "print(\"Os números\",n1,\"e\",n2,\"somados correspondem a\",soma)"
      ],
      "metadata": {
        "colab": {
          "base_uri": "https://localhost:8080/"
        },
        "id": "uTF1ns0bON8X",
        "outputId": "ee8b9ef1-6c1b-47b0-cbe6-c3a1a94abf9b"
      },
      "execution_count": 14,
      "outputs": [
        {
          "output_type": "stream",
          "name": "stdout",
          "text": [
            "Digite o primeiro número inteiro: 6\n",
            "Digite o segundo número inteiro: 6\n",
            "Os números 6 e 6 somados correspondem a 12\n"
          ]
        }
      ]
    },
    {
      "cell_type": "code",
      "source": [
        "#14  Escreva um programa que solicite ao usuário dois números reais e ao final apresente na tela o produto dos dois números informados da seguinte forma: \"O produto dos numeros N e X corresponde a Y\"\n",
        "n1 = float(input(\"Digite o primeiro número real: \"))\n",
        "n2 = float(input(\"Digite o segundo número real: \"))\n",
        "produto = n1 * n2\n",
        "print(\"O produto dos números\",n1,\"e\",n2,\"corresponde a\",produto)"
      ],
      "metadata": {
        "colab": {
          "base_uri": "https://localhost:8080/"
        },
        "id": "BKHYgoDLPY-s",
        "outputId": "744b5015-33af-4ccd-cc17-4443784fbff6"
      },
      "execution_count": 15,
      "outputs": [
        {
          "output_type": "stream",
          "name": "stdout",
          "text": [
            "Digite o primeiro número real: 5.5\n",
            "Digite o segundo número real: 4.9\n",
            "O produto dos números 5.5 e 4.9 corresponde a 26.950000000000003\n"
          ]
        }
      ]
    },
    {
      "cell_type": "code",
      "source": [
        "#15  Refazer o programa 14 realizando as quatro operações aritméticas básicas\n",
        "n1 = float(input(\"Digite o primeiro número real: \"))\n",
        "n2 = float(input(\"Digite o segundo número real: \"))\n",
        "soma = n1 + n2\n",
        "menos = n1 - n2\n",
        "divisao = n1/n2\n",
        "multi = n1*n2\n",
        "print(\"Os produtos dos números\",n1,\"e\",n2,\"somado é\",soma,\", subtraido é\",menos,\", dividido é\",divisao,\" e multiplucado é\",multi)\n"
      ],
      "metadata": {
        "colab": {
          "base_uri": "https://localhost:8080/"
        },
        "id": "w0KD6CO0QG2D",
        "outputId": "229a455c-d0e4-43e7-e8db-a0657d8923fb"
      },
      "execution_count": 17,
      "outputs": [
        {
          "output_type": "stream",
          "name": "stdout",
          "text": [
            "Digite o primeiro número real: 5\n",
            "Digite o segundo número real: 2\n",
            "Osprodutos dos números 5.0 e 2.0 somado é 7.0 , subtraido é 3.0 , dividido é 2.5  e multiplucado é 10.0\n"
          ]
        }
      ]
    },
    {
      "cell_type": "code",
      "source": [],
      "metadata": {
        "id": "KNYZP3BzQRUh"
      },
      "execution_count": null,
      "outputs": []
    }
  ]
}
