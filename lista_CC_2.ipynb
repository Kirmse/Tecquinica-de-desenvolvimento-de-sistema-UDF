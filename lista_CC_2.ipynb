{
  "nbformat": 4,
  "nbformat_minor": 0,
  "metadata": {
    "colab": {
      "provenance": [],
      "authorship_tag": "ABX9TyMyjorEmbDXxLcx5817i8Xe",
      "include_colab_link": true
    },
    "kernelspec": {
      "name": "python3",
      "display_name": "Python 3"
    },
    "language_info": {
      "name": "python"
    }
  },
  "cells": [
    {
      "cell_type": "markdown",
      "metadata": {
        "id": "view-in-github",
        "colab_type": "text"
      },
      "source": [
        "<a href=\"https://colab.research.google.com/github/Kirmse/Tecquinica-de-Desenvolvimento-de-Sistema-UDF/blob/main/lista_2.ipynb\" target=\"_parent\"><img src=\"https://colab.research.google.com/assets/colab-badge.svg\" alt=\"Open In Colab\"/></a>"
      ]
    },
    {
      "cell_type": "code",
      "execution_count": 4,
      "metadata": {
        "colab": {
          "base_uri": "https://localhost:8080/"
        },
        "id": "LE0_OeDSYT3n",
        "outputId": "70d22c78-f32c-461f-b37e-a2c8f620deb7"
      },
      "outputs": [
        {
          "name": "stdout",
          "output_type": "stream",
          "text": [
            "Digite um número real: 10\n"
          ]
        }
      ],
      "source": [
        "#1 Elabore um programa que solicite ao usuário um número real e ao final imprima na tela se o número informado é maior que 10 (dez)\n",
        "num = int(input(\"Digite um número real: \"))\n",
        "if num > 10:\n",
        "  print(\"Seu número é maior que 10\")\n",
        "else:\n",
        "  print(\"Seu número é menor que 10\")\n"
      ]
    },
    {
      "cell_type": "code",
      "source": [
        "#2 Escreva um programa que solicite ao usuário um número real e ao final imprima na tela se o número informado é maior ou igual a dez ou menor que 10 (dez)\n",
        "num = float(input(\"Digite um número real: \"))\n",
        "if num >= 10:\n",
        "  print(\"Seu número é maior que 10\")\n",
        "elif num == 10:\n",
        "  print(\"Seu número é igual a 10\")\n",
        "else:\n",
        "  print(\"Seu número é menor que 10\")"
      ],
      "metadata": {
        "colab": {
          "base_uri": "https://localhost:8080/"
        },
        "id": "xKBJYYJVZgJ-",
        "outputId": "4f0b1ee2-ef00-45bc-92cd-41eed602346c"
      },
      "execution_count": 7,
      "outputs": [
        {
          "output_type": "stream",
          "name": "stdout",
          "text": [
            "Digite um número real: 15\n",
            "Seu número é maior que 10\n"
          ]
        }
      ]
    },
    {
      "cell_type": "code",
      "source": [
        "#3 Elabore um algoritmo que solicite ao usuário um número real e ao final imprima na tela se o número informado é maior que dez, se é menor que dez, ou se é igual a dez\n",
        "num = float(input(\"Digite um número real: \"))\n",
        "if num >= 10:\n",
        "  print(\"Seu número é maior que 10\")\n",
        "elif num == 10:\n",
        "  print(\"Seu número é igual a 10\")\n",
        "else:\n",
        "  print(\"Seu número é menor que 10\")"
      ],
      "metadata": {
        "id": "mpzNOujhauZK"
      },
      "execution_count": null,
      "outputs": []
    },
    {
      "cell_type": "code",
      "source": [
        "#4 Elabore um algoritmo que solicite ao usuário um número real e ao final imprima na tela se o número informado é positivo, negativo ou nulo (zero)\n",
        "num = float(input(\"Digite um número real: \"))\n",
        "if num > 0:\n",
        "  print(\"Seu número é positivo\")\n",
        "elif num == 0:\n",
        "  print(\"Seu número é nulo\")\n",
        "elif num < 0:\n",
        "  print(\"Seu número é negativo\")"
      ],
      "metadata": {
        "colab": {
          "base_uri": "https://localhost:8080/"
        },
        "id": "DMlBYfbQbNVq",
        "outputId": "2bbd1fbe-93ab-470c-8491-0e88b1edb90a"
      },
      "execution_count": 10,
      "outputs": [
        {
          "output_type": "stream",
          "name": "stdout",
          "text": [
            "Digite um número real: 5\n",
            "Seu número é positivo\n"
          ]
        }
      ]
    },
    {
      "cell_type": "code",
      "source": [
        "#5 Elabore um algoritmo que leia um número inteiro e imprima uma das mensagens: é múltiplo de 3, ou, não é múltiplo de 3\n",
        "num = int(input(\"Digite um número real: \"))\n",
        "\n",
        "if num %3 == 0:\n",
        "  print(\"Seu número é multiplo de 3\")\n",
        "else:\n",
        "  print(\"Seu número não é multiplo de 3\")"
      ],
      "metadata": {
        "colab": {
          "base_uri": "https://localhost:8080/"
        },
        "id": "gulpt0aCbw7P",
        "outputId": "7c7eb492-b59c-41c8-c3cd-945c704f4d31"
      },
      "execution_count": 12,
      "outputs": [
        {
          "output_type": "stream",
          "name": "stdout",
          "text": [
            "Digite um número real: 3\n",
            "Seu número é multiplo de 3\n"
          ]
        }
      ]
    },
    {
      "cell_type": "code",
      "source": [
        "#6 Refazer o exercício anterior, solicitando antes o múltiplo a ser testado\n",
        "num = int(input(\"Digite um número real: \"))\n",
        "mult = int(input(\"Qual erá multiplo testado?: \"))\n",
        "\n",
        "if num % mult == 0:\n",
        "  print(\"Seu número é multiplo de 3\")\n",
        "else:\n",
        "  print(\"Seu número não é multiplo de 3\")"
      ],
      "metadata": {
        "colab": {
          "base_uri": "https://localhost:8080/"
        },
        "id": "bTHgwC9AeEDW",
        "outputId": "09e16975-f842-4cc6-cbd1-d6c7d2f1185f"
      },
      "execution_count": 13,
      "outputs": [
        {
          "output_type": "stream",
          "name": "stdout",
          "text": [
            "Digite um número real: 10\n",
            "Qual erá multiplo testado?: 3\n",
            "Seu número não é multiplo de 3\n"
          ]
        }
      ]
    },
    {
      "cell_type": "code",
      "source": [
        "#7 Desenvolva um algoritmo que classifique um número inteiro fornecido pelo usuário como par ou ímpar\n",
        "num = int(input(\"Digite um numero inteiro: \"))\n",
        "if num %2 == 0:\n",
        "  print(\"Seu número é par\")\n",
        "else:\n",
        "  print(\"Seu número é impar\")"
      ],
      "metadata": {
        "colab": {
          "base_uri": "https://localhost:8080/"
        },
        "id": "_DSNXJlaeagK",
        "outputId": "66e7c671-cc29-45c2-8f88-ab6de83bc209"
      },
      "execution_count": 15,
      "outputs": [
        {
          "output_type": "stream",
          "name": "stdout",
          "text": [
            "Digite um numero inteiro: 4\n",
            "Seu número é par\n"
          ]
        }
      ]
    },
    {
      "cell_type": "code",
      "source": [
        "#8 Elabore um algoritmo que leia um número, e se ele for maior do que 20, imprimir a metadedesse número, caso contrário, imprimir o dobro do número\n",
        "num = int(input(\"Digite um numero inteiro: \"))\n",
        "if num > 20:\n",
        "  print(\"Seu número pela metade é\",num/2)\n",
        "else:\n",
        "  print(\"Seu número em dobro é\",num*2)"
      ],
      "metadata": {
        "colab": {
          "base_uri": "https://localhost:8080/"
        },
        "id": "FPc_cN8efpJt",
        "outputId": "bfcb5347-bb31-4a8f-e3f6-b67b3a2ea787"
      },
      "execution_count": 21,
      "outputs": [
        {
          "output_type": "stream",
          "name": "stdout",
          "text": [
            "Digite um numero inteiro: 22\n",
            "Seu número pela metade é 11.0\n"
          ]
        }
      ]
    },
    {
      "cell_type": "code",
      "source": [
        "#9 Elabore um algoritmo que leia dois números inteiros e realize a adição; caso o resultado seja maior que 10, imprima o quadrado do resultado, caso contrário, imprima a metade dele\n",
        "num1 = int(input(\"Digite o primeiro numero inteiro: \"))\n",
        "num2 = int(input(\"Digite o segundo numero inteiro: \"))\n",
        "soma = num1+num2\n",
        "if soma > 10:\n",
        "  print(\"O quadrado do seu número é\",soma*soma)\n",
        "else:\n",
        "  print(\"Seu número pela metade é\",soma/2)\n"
      ],
      "metadata": {
        "colab": {
          "base_uri": "https://localhost:8080/"
        },
        "id": "GxFduRVxgG_E",
        "outputId": "27000aa1-92d4-4fbe-a0ed-0b1a4f3db2ef"
      },
      "execution_count": 24,
      "outputs": [
        {
          "output_type": "stream",
          "name": "stdout",
          "text": [
            "Digite o primeiro numero inteiro: 2\n",
            "Digite o segundo numero inteiro: 2\n",
            "Seu número pela metade é 2.0\n"
          ]
        }
      ]
    },
    {
      "cell_type": "code",
      "source": [
        "#10 O sistema de avaliação de determinada disciplina é composto por três provas. A primeira prova tem peso 2, a segunda tem peso 3 e a terceira tem peso 5. Considerando que a média para aprovação é 6.0, faça um algoritmo para calcular a média final de um aluno desta disciplina e dizer se o aluno foi aprovado ou não\n",
        "n1 = float(input(\"Digite a sua primeira nota: \"))\n",
        "n2 = float(input(\"Digite a sua segunda nota: \"))\n",
        "n3 = float(input(\"Digite a sua terceira nota: \"))\n",
        "peso2 = n1*2\n",
        "peso3 = n2*3\n",
        "peso5 = n3*5\n",
        "soma = (peso2+peso3+peso5)/10\n",
        "if soma >= 6:\n",
        "  print(\"Sua média é de\",soma,\" e vc está APROVADO\")\n",
        "else:\n",
        "  print(\"Sua média é de\",soma,\" e vc está REPROVADO\")"
      ],
      "metadata": {
        "colab": {
          "base_uri": "https://localhost:8080/"
        },
        "id": "mzaJYIB5g0A8",
        "outputId": "625e8c0b-4484-4c8f-c7d1-afe7a96f22a3"
      },
      "execution_count": 30,
      "outputs": [
        {
          "output_type": "stream",
          "name": "stdout",
          "text": [
            "Digite a sua primeira nota: 10\n",
            "Digite a sua segunda nota: 8\n",
            "Digite a sua terceira nota: 2\n",
            "Sua média é de 5.4  e vc está REPROVADO\n"
          ]
        }
      ]
    },
    {
      "cell_type": "code",
      "source": [
        "#11 Elabore um algoritmo que leia o nome e o peso de duas pessoas e imprima o nome da pessoa mais pesada\n",
        "nome1 = input(\"Digite o 1º nome: \")\n",
        "peso1 = input(\"Digite o peso do 1º: \")\n",
        "nome2 = input(\"Digite o 2º nome: \")\n",
        "peso2 = input(\"Digite o peso do 2º: \")\n",
        "if peso1 > peso2:\n",
        "  print(\"O\",nome1,\"é mais o mais pesado\")\n",
        "else:\n",
        "  print(\"O\",nome2,\"é mais o mais pesado\")"
      ],
      "metadata": {
        "colab": {
          "base_uri": "https://localhost:8080/"
        },
        "id": "DhfoYwEDhfF8",
        "outputId": "a1f87c83-a74a-4895-f905-1e1bc2466c6e"
      },
      "execution_count": 31,
      "outputs": [
        {
          "output_type": "stream",
          "name": "stdout",
          "text": [
            "Digite o 1º nome: Isaque\n",
            "Digite o peso do 1º: 60\n",
            "Digite o 2º nome: Arthur\n",
            "Digite o peso do 2º: 80\n",
            "O Arthur é mais o mais pesado\n"
          ]
        }
      ]
    },
    {
      "cell_type": "code",
      "source": [
        "#12 Elabore um algoritmo que indique se um número digitado está compreendido entre 20 e 90, ou não\n",
        "num = int(input(\"Digite um número inteiro: \"))\n",
        "if num >= 20 and num <= 90:\n",
        "  print(\"Seu número está entre 20 e 90\")\n",
        "else:\n",
        "  print(\"Seu número não está entre 20 e 90\")"
      ],
      "metadata": {
        "colab": {
          "base_uri": "https://localhost:8080/"
        },
        "id": "nVPy4IN2i7yl",
        "outputId": "303fe4f0-3083-48ee-e86d-8be946414aa3"
      },
      "execution_count": 33,
      "outputs": [
        {
          "output_type": "stream",
          "name": "stdout",
          "text": [
            "Digite um número inteiro: 50\n",
            "Seu número está entre 20 e 90\n"
          ]
        }
      ]
    },
    {
      "cell_type": "code",
      "source": [
        "#13 Elabore um algoritmo que leia dois números e imprima qual é maior, qual é menor, ou se são iguais\n",
        "n1 = int(input(\"Digite o 1º num: \"))\n",
        "n2 = int(input(\"Digite o 2º num: \"))\n",
        "if n1 > n2:\n",
        "  print(\"O número\",n1,\"é maior que\",n2)\n",
        "elif n1 == n2:\n",
        "  print(\"O número\",n1,\"é igual a\",n2)\n",
        "else:\n",
        "  print(\"O número\",n2,\"é maior que\",n1)"
      ],
      "metadata": {
        "colab": {
          "base_uri": "https://localhost:8080/"
        },
        "id": "rFQ2rbGRj0tI",
        "outputId": "e2a37e49-aa11-49aa-fca9-2f437c9d8a51"
      },
      "execution_count": 36,
      "outputs": [
        {
          "output_type": "stream",
          "name": "stdout",
          "text": [
            "Digite o 1º num: 5\n",
            "Digite o 2º num: 100\n",
            "O número 100 é maior que 5\n"
          ]
        }
      ]
    },
    {
      "cell_type": "code",
      "source": [
        "#14 Escreva um programa em linguagem C que solicite ao usuário a média para aprovação em um curso e em seguida solicite ao usuário o nome, sexo e as 03 notas do aluno e ao final imprima a frase: \"O aluno XXXXX foi aprovado com media YY\" considerando o gênero do(a) aluno(a) e se foi aprovado(a) ou reprovado(a)\n",
        "nome = input(\"Digite o seu nome: \")\n",
        "sexo = input(\"Digite o seu sexo: \")\n",
        "n1 = float(input(\"Digite a 1º nota: \"))\n",
        "n2 = float(input(\"Digite a 2º nota: \"))\n",
        "n3 = float(input(\"Digite a 3º nota: \"))\n",
        "media = (n1+n2+n3)/3\n",
        "if media >= 6:\n",
        "  print(\"O aluno\",nome,\"foi reprovado com media\",format(media, \".2f\"),\"e o gênero dele(a) é\",sexo)\n",
        "else:\n",
        "  print(\"O aluno\",nome,\"foi reprovado com media\",format(media, \".2f\"),\"e o gênero dele(a) é\",sexo)"
      ],
      "metadata": {
        "colab": {
          "base_uri": "https://localhost:8080/"
        },
        "id": "yaAL4RRukc-g",
        "outputId": "2ea04abf-64fb-4038-a48f-3573047530ac"
      },
      "execution_count": 43,
      "outputs": [
        {
          "output_type": "stream",
          "name": "stdout",
          "text": [
            "Digite o seu nome: Isaque\n",
            "Digite o seu sexo: Masculino\n",
            "Digite a 1º nota: 8\n",
            "Digite a 2º nota: 4\n",
            "Digite a 3º nota: 6\n",
            "O aluno Isaque foi reprovado com media 6.00 e o gênero dele(a) é  Masculino\n"
          ]
        }
      ]
    }
  ]
}
